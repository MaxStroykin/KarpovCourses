{
 "cells": [
  {
   "cell_type": "markdown",
   "metadata": {},
   "source": [
    "Два человека одновременно стреляют по мишени. Вероятность попадания по мишени у первого стрелка равна 0,5, у второго — 0,8. Какова вероятность того, что в мишени будет только одна пробоина?"
   ]
  },
  {
   "cell_type": "markdown",
   "metadata": {},
   "source": [
    "0.5"
   ]
  },
  {
   "cell_type": "code",
   "execution_count": null,
   "metadata": {},
   "outputs": [],
   "source": []
  },
  {
   "cell_type": "markdown",
   "metadata": {},
   "source": [
    "Трое аналитиков на экзамене независимо друг от друга решают одну и ту же задачу. Вероятности ее решения этими аналитиками равны 0,8, 0,7 и 0,6 соответственно. Найдите вероятность того, что хотя бы один аналитик решит задачу."
   ]
  },
  {
   "cell_type": "markdown",
   "metadata": {},
   "source": [
    "0.976"
   ]
  },
  {
   "cell_type": "code",
   "execution_count": null,
   "metadata": {},
   "outputs": [],
   "source": []
  },
  {
   "cell_type": "markdown",
   "metadata": {},
   "source": [
    "В первой урне находятся 10 белых и 4 черных шаров, а во второй 5 белых и 9 черных шаров. Из каждой урны вынули по шару. Какова вероятность того, что оба шара окажутся черными? В ответ запишите значение, округленное до тысячных."
   ]
  },
  {
   "cell_type": "markdown",
   "metadata": {},
   "source": [
    "0.184"
   ]
  },
  {
   "cell_type": "code",
   "execution_count": null,
   "metadata": {},
   "outputs": [],
   "source": []
  },
  {
   "cell_type": "markdown",
   "metadata": {},
   "source": [
    "Вероятность хотя бы одного попадания в цель при четырех выстрелах равна 0,9984. Найдите вероятность попадания в цель при одном выстреле. "
   ]
  },
  {
   "cell_type": "markdown",
   "metadata": {},
   "source": [
    "0.8"
   ]
  },
  {
   "cell_type": "code",
   "execution_count": null,
   "metadata": {},
   "outputs": [],
   "source": []
  },
  {
   "cell_type": "markdown",
   "metadata": {},
   "source": [
    "Из колоды в 36 карт наудачу извлекается одна карта. События:\n",
    "\n",
    "A = {вынутая карта – туз}\n",
    "В = {вынутая карта чёрной масти}\n",
    "F = {вынутая карта – фигура, т.е. является валетом, дамой, королём или тузом}.\n",
    "\n",
    "Выберите все пары зависимых событий:"
   ]
  },
  {
   "cell_type": "markdown",
   "metadata": {},
   "source": [
    "A, F"
   ]
  },
  {
   "cell_type": "code",
   "execution_count": null,
   "metadata": {},
   "outputs": [],
   "source": []
  },
  {
   "cell_type": "markdown",
   "metadata": {},
   "source": [
    "В конверте находится 10 лотерейных билетов, среди которых 3 выигрышных. Из конверта последовательно извлекаются билеты. Найти вероятность того, что три первых лотерейных билета будут выигрышными. Ответ округлите до десятитысячных. В качестве десятичного разделителя используйте точку."
   ]
  },
  {
   "cell_type": "markdown",
   "metadata": {},
   "source": [
    "0.0083"
   ]
  },
  {
   "cell_type": "code",
   "execution_count": null,
   "metadata": {},
   "outputs": [],
   "source": []
  },
  {
   "cell_type": "markdown",
   "metadata": {},
   "source": [
    "В трех углах равностороннего треугольника находится по роботу. Каждый из роботов начинает двигаться в случайно выбранный угол по стороне треугольника. Какова вероятность того, что ни один из роботов не столкнется с другим роботом?"
   ]
  },
  {
   "cell_type": "markdown",
   "metadata": {},
   "source": [
    "0.25"
   ]
  },
  {
   "cell_type": "code",
   "execution_count": null,
   "metadata": {},
   "outputs": [],
   "source": []
  },
  {
   "cell_type": "markdown",
   "metadata": {},
   "source": [
    "Брошены две игральные кости. Есть следующие события:\n",
    "\n",
    "А = {выпадение шестерки на первой кости}\n",
    "В = {сумма выпавших очков равна 7}\n",
    "С = {выпадение тройки на второй кости}\n",
    "\n",
    "Какие пары событий являются независимыми? "
   ]
  },
  {
   "cell_type": "markdown",
   "metadata": {},
   "source": [
    "Все попарно"
   ]
  },
  {
   "cell_type": "code",
   "execution_count": null,
   "metadata": {},
   "outputs": [],
   "source": []
  },
  {
   "cell_type": "markdown",
   "metadata": {},
   "source": [
    "Бросаются 2 игральных кубика. Определите вероятность того, что произведение числа очков на обоих кубиках не превосходит 10."
   ]
  },
  {
   "cell_type": "markdown",
   "metadata": {},
   "source": [
    "0.528"
   ]
  },
  {
   "cell_type": "code",
   "execution_count": null,
   "metadata": {},
   "outputs": [],
   "source": []
  }
 ],
 "metadata": {
  "kernelspec": {
   "display_name": "Python 3",
   "language": "python",
   "name": "python3"
  },
  "language_info": {
   "codemirror_mode": {
    "name": "ipython",
    "version": 3
   },
   "file_extension": ".py",
   "mimetype": "text/x-python",
   "name": "python",
   "nbconvert_exporter": "python",
   "pygments_lexer": "ipython3",
   "version": "3.7.3"
  }
 },
 "nbformat": 4,
 "nbformat_minor": 4
}
